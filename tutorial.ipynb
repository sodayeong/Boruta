{
 "cells": [
  {
   "cell_type": "code",
   "execution_count": 1,
   "id": "d2e9f1e8",
   "metadata": {},
   "outputs": [],
   "source": [
    "import pandas as pd\n",
    "from boruta import BorutaPy\n",
    "from sklearn.ensemble import RandomForestClassifier"
   ]
  },
  {
   "cell_type": "code",
   "execution_count": null,
   "id": "8cc87f4a",
   "metadata": {},
   "outputs": [],
   "source": [
    "def load_data() : \n",
    "    # dataset via UCI \n",
    "    train_data_url = 'https://archive.ics.uci.edu/ml/machine-learning-databases/madelon/MADELON/madelon_train.data'\n",
    "    train_label_url = 'https://archive.ics.uci.edu/ml/machine-learning-databases/madelon/MADELON/madelon_train.labels'\n",
    "    \n",
    "    X_data = pd.read_csv(train_data_url, sep=' ', header=None)\n",
    "    y_data = pd.read_csv(train_label_url, sep=' ', header=None)\n",
    "    data = X_data.loc[:, :499]\n",
    "    data['target'] = y_data[0]\n",
    "    return data\n",
    "\n",
    "data = load_data()\n",
    "\n",
    "y = data.pop('target')\n",
    "X = data.copy().values"
   ]
  },
  {
   "cell_type": "code",
   "execution_count": null,
   "id": "e92b31fc",
   "metadata": {},
   "outputs": [],
   "source": [
    "rf = RandomForestClassifier(n_jobs=-1, class_weight=None, max_depth=7, random_state=0)\n",
    "\n",
    "feat_selector = BorutaPy(rf, n_estimators = 'auto', verbose = 2, random_state=0)\n",
    "\n",
    "feat_selector.fit(X, y)"
   ]
  },
  {
   "cell_type": "markdown",
   "id": "3c56e70c",
   "metadata": {},
   "source": [
    "- 선택된 feature의 수는 19, ranking_ 속성을 통해 각 feature의 랭킹을 알 수 있음"
   ]
  },
  {
   "cell_type": "code",
   "execution_count": null,
   "id": "dce07a80",
   "metadata": {},
   "outputs": [],
   "source": [
    "print('n_features: ',feat_selector.n_features_)\n",
    "print('ranking: ' ,feat_selector.ranking_)"
   ]
  },
  {
   "cell_type": "code",
   "execution_count": null,
   "id": "2f78488a",
   "metadata": {},
   "outputs": [],
   "source": []
  },
  {
   "cell_type": "code",
   "execution_count": null,
   "id": "e4ea5bc9",
   "metadata": {},
   "outputs": [],
   "source": []
  },
  {
   "cell_type": "code",
   "execution_count": null,
   "id": "7a177cdf",
   "metadata": {},
   "outputs": [],
   "source": []
  }
 ],
 "metadata": {
  "kernelspec": {
   "display_name": "Python 3 (ipykernel)",
   "language": "python",
   "name": "python3"
  },
  "language_info": {
   "codemirror_mode": {
    "name": "ipython",
    "version": 3
   },
   "file_extension": ".py",
   "mimetype": "text/x-python",
   "name": "python",
   "nbconvert_exporter": "python",
   "pygments_lexer": "ipython3",
   "version": "3.9.13"
  }
 },
 "nbformat": 4,
 "nbformat_minor": 5
}
